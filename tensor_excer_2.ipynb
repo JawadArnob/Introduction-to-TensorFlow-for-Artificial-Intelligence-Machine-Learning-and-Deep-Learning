{
  "nbformat": 4,
  "nbformat_minor": 0,
  "metadata": {
    "colab": {
      "name": "tensor_excer_2.ipynb",
      "provenance": [],
      "authorship_tag": "ABX9TyOTwMyOPnoWPHShg/v/MQ8f",
      "include_colab_link": true
    },
    "kernelspec": {
      "name": "python3",
      "display_name": "Python 3"
    }
  },
  "cells": [
    {
      "cell_type": "markdown",
      "metadata": {
        "id": "view-in-github",
        "colab_type": "text"
      },
      "source": [
        "<a href=\"https://colab.research.google.com/github/JawadArnob/Introduction-to-TensorFlow-for-Artificial-Intelligence-Machine-Learning-and-Deep-Learning/blob/main/tensor_excer_2.ipynb\" target=\"_parent\"><img src=\"https://colab.research.google.com/assets/colab-badge.svg\" alt=\"Open In Colab\"/></a>"
      ]
    },
    {
      "cell_type": "code",
      "metadata": {
        "id": "Gn_Y4xHu9Khn"
      },
      "source": [
        "import tensorflow as tf"
      ],
      "execution_count": null,
      "outputs": []
    },
    {
      "cell_type": "code",
      "metadata": {
        "id": "RkGTu3Yt969G"
      },
      "source": [
        "# GRADED FUNCTION: train_mnist\r\n",
        "def train_mnist():\r\n",
        "    # Please write your code only where you are indicated.\r\n",
        "    # please do not remove # model fitting inline comments.\r\n",
        "\r\n",
        "    # YOUR CODE SHOULD START HERE\r\n",
        "    class myCallback(tf.keras.callbacks.Callback):\r\n",
        "        def on_epoch_end(self, epoch, logs={}):\r\n",
        "            if(logs.get('accuracy')>= 0.99):\r\n",
        "              print(\"\\nReached 99% accuracy so cancelling training!\")\r\n",
        "              self.model.stop_training = True\r\n",
        "    # YOUR CODE SHOULD END HERE\r\n",
        "\r\n",
        "    mnist = tf.keras.datasets.mnist\r\n",
        "\r\n",
        "    (x_train, y_train),(x_test, y_test) = mnist.load_data()\r\n",
        "    # YOUR CODE SHOULD START HERE\r\n",
        "    x_train, x_test = x_train / 255.0, x_test / 255.0\r\n",
        "    callbacks = myCallback()\r\n",
        "    # YOUR CODE SHOULD END HERE\r\n",
        "    model = tf.keras.models.Sequential([\r\n",
        "        # YOUR CODE SHOULD START HERE\r\n",
        "      tf.keras.layers.Flatten(input_shape=(28, 28)),\r\n",
        "      tf.keras.layers.Dense(512, activation=tf.nn.relu),\r\n",
        "      tf.keras.layers.Dense(10, activation=tf.nn.softmax)\r\n",
        "        # YOUR CODE SHOULD END HERE\r\n",
        "    ])\r\n",
        "\r\n",
        "    model.compile(optimizer='adam',\r\n",
        "                  loss='sparse_categorical_crossentropy',\r\n",
        "                  metrics=['accuracy'])\r\n",
        "     # model fitting\r\n",
        "    history = model.fit(x_train, y_train, epochs=10, callbacks=[callbacks])\r\n",
        "    # model fitting\r\n",
        "    return history.epoch, history.history['accuracy'][-1]"
      ],
      "execution_count": null,
      "outputs": []
    },
    {
      "cell_type": "code",
      "metadata": {
        "colab": {
          "base_uri": "https://localhost:8080/"
        },
        "id": "pqBxBylG_XrJ",
        "outputId": "2cef2bc9-8a05-4418-f229-8a3a756fbacf"
      },
      "source": [
        "train_mnist()"
      ],
      "execution_count": null,
      "outputs": [
        {
          "output_type": "stream",
          "text": [
            "Downloading data from https://storage.googleapis.com/tensorflow/tf-keras-datasets/mnist.npz\n",
            "11493376/11490434 [==============================] - 0s 0us/step\n",
            "Epoch 1/10\n",
            "1875/1875 [==============================] - 8s 4ms/step - loss: 0.3363 - accuracy: 0.8991\n",
            "Epoch 2/10\n",
            "1875/1875 [==============================] - 7s 4ms/step - loss: 0.0806 - accuracy: 0.9767\n",
            "Epoch 3/10\n",
            "1875/1875 [==============================] - 7s 4ms/step - loss: 0.0495 - accuracy: 0.9846\n",
            "Epoch 4/10\n",
            "1875/1875 [==============================] - 8s 4ms/step - loss: 0.0340 - accuracy: 0.9892\n",
            "Epoch 5/10\n",
            "1875/1875 [==============================] - 8s 4ms/step - loss: 0.0267 - accuracy: 0.9916\n",
            "\n",
            "Reached 99% accuracy so cancelling training!\n"
          ],
          "name": "stdout"
        },
        {
          "output_type": "execute_result",
          "data": {
            "text/plain": [
              "([0, 1, 2, 3, 4], 0.9907500147819519)"
            ]
          },
          "metadata": {
            "tags": []
          },
          "execution_count": 3
        }
      ]
    }
  ]
}