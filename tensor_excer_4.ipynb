{
  "nbformat": 4,
  "nbformat_minor": 0,
  "metadata": {
    "colab": {
      "name": "tensor_excer_4.ipynb",
      "provenance": [],
      "authorship_tag": "ABX9TyOjvA3p7WSBnu88aSuSrwuf",
      "include_colab_link": true
    },
    "kernelspec": {
      "name": "python3",
      "display_name": "Python 3"
    }
  },
  "cells": [
    {
      "cell_type": "markdown",
      "metadata": {
        "id": "view-in-github",
        "colab_type": "text"
      },
      "source": [
        "<a href=\"https://colab.research.google.com/github/JawadArnob/Introduction-to-TensorFlow-for-Artificial-Intelligence-Machine-Learning-and-Deep-Learning/blob/main/tensor_excer_4.ipynb\" target=\"_parent\"><img src=\"https://colab.research.google.com/assets/colab-badge.svg\" alt=\"Open In Colab\"/></a>"
      ]
    },
    {
      "cell_type": "markdown",
      "metadata": {
        "id": "ZW8Bw3WDrSV5"
      },
      "source": [
        "Below is code with a link to a happy or sad dataset which contains 80 images, 40 happy and 40 sad. Create a convolutional neural network that trains to 100% accuracy on these images, which cancels training upon hitting training accuracy of >.999\r\n",
        "\r\n",
        "Hint -- it will work best with 3 convolutional layers."
      ]
    },
    {
      "cell_type": "code",
      "metadata": {
        "id": "NDZrn6gT9NT8"
      },
      "source": [
        "import tensorflow as tf\r\n",
        "import os\r\n",
        "import zipfile\r\n",
        "import urllib\r\n",
        "urllib.request.urlretrieve(\"https://storage.googleapis.com/laurencemoroney-blog.appspot.com/happy-or-sad.zip\",\r\n",
        "                           filename=\"/tmp/happy-or-sad.zip\")\r\n",
        "\r\n",
        "zip_ref = zipfile.ZipFile(\"/tmp/happy-or-sad.zip\", 'r')\r\n",
        "zip_ref.extractall(\"/tmp/h-or-s\")\r\n",
        "zip_ref.close()"
      ],
      "execution_count": 2,
      "outputs": []
    },
    {
      "cell_type": "code",
      "metadata": {
        "id": "4gU5FT8XAyoJ"
      },
      "source": [
        "# GRADED FUNCTION: train_happy_sad_model\r\n",
        "def train_happy_sad_model():\r\n",
        "    # Please write your code only where you are indicated.\r\n",
        "    # please do not remove # model fitting inline comments.\r\n",
        "\r\n",
        "    DESIRED_ACCURACY = 0.999\r\n",
        "\r\n",
        "    class myCallback(tf.keras.callbacks.Callback):\r\n",
        "        def on_epoch_end(self, epoch, logs={}):\r\n",
        "            if(logs.get('accuracy')>DESIRED_ACCURACY):\r\n",
        "                print(\"\\nReached 100% accuracy so cancelling training!\")\r\n",
        "                self.model.stop_training = True\r\n",
        "\r\n",
        "    callbacks = myCallback()\r\n",
        "\r\n",
        "     # This Code Block should Define and Compile the Model\r\n",
        "    model = tf.keras.models.Sequential([\r\n",
        "        tf.keras.layers.Conv2D(16, (3,3), activation='relu', input_shape=(150, 150, 3)),\r\n",
        "    tf.keras.layers.MaxPooling2D(2, 2),\r\n",
        "    # The second convolution\r\n",
        "    tf.keras.layers.Conv2D(32, (3,3), activation='relu'),\r\n",
        "    tf.keras.layers.MaxPooling2D(2,2),\r\n",
        "    # The third convolution\r\n",
        "    tf.keras.layers.Conv2D(64, (3,3), activation='relu'),\r\n",
        "    tf.keras.layers.MaxPooling2D(2,2),\r\n",
        "    # Flatten the results to feed into a DNN\r\n",
        "    tf.keras.layers.Flatten(),\r\n",
        "    # 512 neuron hidden layer\r\n",
        "    tf.keras.layers.Dense(512, activation='relu'),\r\n",
        "    # Only 1 output neuron. It will contain a value from 0-1 where 0 for 1 class ('horses') and 1 for the other ('humans')\r\n",
        "    tf.keras.layers.Dense(1, activation='sigmoid')\r\n",
        "    ])\r\n",
        "\r\n",
        "    from tensorflow.keras.optimizers import RMSprop\r\n",
        "    # Your Code Here )\r\n",
        "    model.compile(loss='binary_crossentropy',\r\n",
        "              optimizer=RMSprop(lr=0.001),\r\n",
        "              metrics=['accuracy'])\r\n",
        "        \r\n",
        "\r\n",
        "    # This code block should create an instance of an ImageDataGenerator called train_datagen \r\n",
        "\r\n",
        "    # And a train_generator by calling train_datagen.flow_from_directory\r\n",
        "\r\n",
        "    from tensorflow.keras.preprocessing.image import ImageDataGenerator\r\n",
        "\r\n",
        "    train_datagen = ImageDataGenerator(rescale=1/255)\r\n",
        "\r\n",
        "    train_generator = train_datagen.flow_from_directory(\r\n",
        "        '/tmp/h-or-s/',  # This is the source directory for training images\r\n",
        "        target_size=(150, 150),  # All images will be resized to 150x150\r\n",
        "        batch_size=8,\r\n",
        "        # Since we use binary_crossentropy loss, we need binary labels\r\n",
        "        class_mode='binary')\r\n",
        "        # Your Code Here)\r\n",
        "    # Expected output: 'Found 80 images belonging to 2 classes'\r\n",
        "    # This code block should call model.fit_generator and train for\r\n",
        "    # a number of epochs.\r\n",
        "    # model fitting\r\n",
        "    history = model.fit_generator(\r\n",
        "      train_generator,\r\n",
        "      steps_per_epoch=8,  \r\n",
        "      epochs=15,\r\n",
        "      verbose=1, callbacks=[callbacks])\r\n",
        "        # Your Code Here)\r\n",
        "    # model fitting\r\n",
        "    return history.history['accuracy'][-1]"
      ],
      "execution_count": 3,
      "outputs": []
    },
    {
      "cell_type": "code",
      "metadata": {
        "colab": {
          "base_uri": "https://localhost:8080/"
        },
        "id": "1pSE9PCWBKtX",
        "outputId": "ac894927-52fe-4099-c272-0a1c9e4d295a"
      },
      "source": [
        "train_happy_sad_model()"
      ],
      "execution_count": null,
      "outputs": [
        {
          "output_type": "stream",
          "text": [
            "Found 80 images belonging to 2 classes.\n"
          ],
          "name": "stdout"
        },
        {
          "output_type": "stream",
          "text": [
            "/usr/local/lib/python3.6/dist-packages/tensorflow/python/keras/engine/training.py:1844: UserWarning: `Model.fit_generator` is deprecated and will be removed in a future version. Please use `Model.fit`, which supports generators.\n",
            "  warnings.warn('`Model.fit_generator` is deprecated and '\n"
          ],
          "name": "stderr"
        },
        {
          "output_type": "stream",
          "text": [
            "Epoch 1/15\n",
            "8/8 [==============================] - 3s 265ms/step - loss: 2.3021 - accuracy: 0.4395\n",
            "Epoch 2/15\n",
            "8/8 [==============================] - 2s 254ms/step - loss: 0.6086 - accuracy: 0.5613\n",
            "Epoch 3/15\n",
            "8/8 [==============================] - 2s 254ms/step - loss: 0.1495 - accuracy: 0.9656\n",
            "Epoch 4/15\n",
            "8/8 [==============================] - 2s 257ms/step - loss: 0.1232 - accuracy: 0.9488\n",
            "Epoch 5/15\n",
            "8/8 [==============================] - 2s 254ms/step - loss: 0.0558 - accuracy: 1.0000\n",
            "\n",
            "Reached 100% accuracy so cancelling training!\n"
          ],
          "name": "stdout"
        },
        {
          "output_type": "execute_result",
          "data": {
            "text/plain": [
              "1.0"
            ]
          },
          "metadata": {
            "tags": []
          },
          "execution_count": 3
        }
      ]
    }
  ]
}