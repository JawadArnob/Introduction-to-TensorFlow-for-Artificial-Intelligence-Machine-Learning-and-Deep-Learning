{
  "nbformat": 4,
  "nbformat_minor": 0,
  "metadata": {
    "colab": {
      "name": "tensor_excer_3.ipynb",
      "provenance": [],
      "authorship_tag": "ABX9TyOhAbwl0AmfaewP4J1WZHB8",
      "include_colab_link": true
    },
    "kernelspec": {
      "name": "python3",
      "display_name": "Python 3"
    }
  },
  "cells": [
    {
      "cell_type": "markdown",
      "metadata": {
        "id": "view-in-github",
        "colab_type": "text"
      },
      "source": [
        "<a href=\"https://colab.research.google.com/github/JawadArnob/Introduction-to-TensorFlow-for-Artificial-Intelligence-Machine-Learning-and-Deep-Learning/blob/main/tensor_excer_3.ipynb\" target=\"_parent\"><img src=\"https://colab.research.google.com/assets/colab-badge.svg\" alt=\"Open In Colab\"/></a>"
      ]
    },
    {
      "cell_type": "code",
      "metadata": {
        "id": "2rS9q8-D9O9X"
      },
      "source": [
        "import tensorflow as tf\r\n",
        "from tensorflow import keras"
      ],
      "execution_count": null,
      "outputs": []
    },
    {
      "cell_type": "code",
      "metadata": {
        "id": "5a_BvwKZ-gSr"
      },
      "source": [
        "# GRADED FUNCTION: train_mnist_conv\r\n",
        "def train_mnist_conv():\r\n",
        "    # Please write your code only where you are indicated.\r\n",
        "    # please do not remove model fitting inline comments.\r\n",
        "\r\n",
        "    # YOUR CODE STARTS HERE\r\n",
        "    class myCallback(tf.keras.callbacks.Callback):\r\n",
        "        def on_epoch_end(self, epoch, logs={}):\r\n",
        "            if(logs.get('accuracy')>0.998):\r\n",
        "                print(\"\\nReached 99.8% accuracy so cancelling training!\")\r\n",
        "                self.model.stop_training = True\r\n",
        "    \r\n",
        "    # YOUR CODE ENDS HERE\r\n",
        "\r\n",
        "    mnist = tf.keras.datasets.mnist\r\n",
        "    (training_images, training_labels), (test_images, test_labels) = mnist.load_data()\r\n",
        "    # YOUR CODE STARTS HERE\r\n",
        "    callbacks = myCallback()\r\n",
        "    training_images=training_images.reshape(60000, 28, 28, 1)\r\n",
        "    training_images=training_images / 255.0\r\n",
        "    test_images = test_images.reshape(10000, 28, 28, 1)\r\n",
        "    test_images=test_images/255.0\r\n",
        "    # YOUR CODE ENDS HERE\r\n",
        "\r\n",
        "    model = tf.keras.models.Sequential([\r\n",
        "            # YOUR CODE STARTS HERE\r\n",
        "            tf.keras.layers.Conv2D(64, (3,3), activation='relu', input_shape=(28, 28, 1)),\r\n",
        "            tf.keras.layers.MaxPooling2D(2, 2),\r\n",
        "            tf.keras.layers.Conv2D(64, (3,3), activation='relu'),\r\n",
        "            tf.keras.layers.MaxPooling2D(2,2),\r\n",
        "            tf.keras.layers.Flatten(),\r\n",
        "            tf.keras.layers.Dense(128, activation='relu'),\r\n",
        "            tf.keras.layers.Dense(10, activation='softmax')\r\n",
        "            # YOUR CODE ENDS HERE\r\n",
        "    ])\r\n",
        "\r\n",
        "    model.compile(optimizer='adam', loss='sparse_categorical_crossentropy', metrics=['accuracy'])\r\n",
        "    # model fitting\r\n",
        "    history = model.fit(\r\n",
        "        # YOUR CODE STARTS HERE\r\n",
        "            training_images, training_labels, epochs=20, callbacks=[callbacks]\r\n",
        "        # YOUR CODE ENDS HERE\r\n",
        "    )\r\n",
        "    # model fitting\r\n",
        "    return history.epoch, history.history['accuracy'][-1]"
      ],
      "execution_count": null,
      "outputs": []
    },
    {
      "cell_type": "code",
      "metadata": {
        "colab": {
          "base_uri": "https://localhost:8080/"
        },
        "id": "lW-ILUt5-mxN",
        "outputId": "c01b6482-ea4d-41a1-c731-7963e60a7ff7"
      },
      "source": [
        "_, _ = train_mnist_conv()"
      ],
      "execution_count": null,
      "outputs": [
        {
          "output_type": "stream",
          "text": [
            "Downloading data from https://storage.googleapis.com/tensorflow/tf-keras-datasets/mnist.npz\n",
            "11493376/11490434 [==============================] - 0s 0us/step\n",
            "Epoch 1/20\n",
            "1875/1875 [==============================] - 78s 41ms/step - loss: 0.2798 - accuracy: 0.9153\n",
            "Epoch 2/20\n",
            "1875/1875 [==============================] - 77s 41ms/step - loss: 0.0427 - accuracy: 0.9868\n",
            "Epoch 3/20\n",
            "1875/1875 [==============================] - 77s 41ms/step - loss: 0.0267 - accuracy: 0.9916\n",
            "Epoch 4/20\n",
            "1875/1875 [==============================] - 77s 41ms/step - loss: 0.0181 - accuracy: 0.9941\n",
            "Epoch 5/20\n",
            "1875/1875 [==============================] - 77s 41ms/step - loss: 0.0115 - accuracy: 0.9967\n",
            "Epoch 6/20\n",
            "1875/1875 [==============================] - 77s 41ms/step - loss: 0.0096 - accuracy: 0.9969\n",
            "Epoch 7/20\n",
            "1875/1875 [==============================] - 82s 44ms/step - loss: 0.0076 - accuracy: 0.9978\n",
            "Epoch 8/20\n",
            "1875/1875 [==============================] - 77s 41ms/step - loss: 0.0081 - accuracy: 0.9970\n",
            "Epoch 9/20\n",
            "1875/1875 [==============================] - 77s 41ms/step - loss: 0.0061 - accuracy: 0.9979\n",
            "Epoch 10/20\n",
            "1875/1875 [==============================] - 77s 41ms/step - loss: 0.0045 - accuracy: 0.9986\n",
            "\n",
            "Reached 99.8% accuracy so cancelling training!\n"
          ],
          "name": "stdout"
        }
      ]
    }
  ]
}